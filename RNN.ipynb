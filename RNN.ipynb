{
  "nbformat": 4,
  "nbformat_minor": 0,
  "metadata": {
    "colab": {
      "provenance": []
    },
    "kernelspec": {
      "name": "python3",
      "display_name": "Python 3"
    },
    "language_info": {
      "name": "python"
    }
  },
  "cells": [
    {
      "cell_type": "markdown",
      "source": [
        "# What are RNNs ?\n",
        "RNN stands for Recurrent Neural Network. Unlike traditional neural networks, which process each input independently, RNNs are designed to work with sequential data. They have a memory element that allows them to retain information about previous inputs, making them ideal for tasks where the order of data matters.\n",
        "\n",
        "In essence, RNNs can capture patterns and dependencies in sequential data, making them particularly powerful for time-series analysis, stock predictions, language modeling, and, as we'll see today, analyzing historical sales data.\n",
        "\n",
        "![Stonks](https://drive.google.com/uc?export=view&id=1_r5aG1EJKglbfj0Ui9VSS75nr4GX-j1N)\n",
        "\n",
        "Now that we have a basic understanding of RNNs and their sequential processing capability, let's apply this knowledge to a real-world scenario\n",
        "\n",
        "\n"
      ],
      "metadata": {
        "id": "-Egnx22Gtxdo"
      }
    },
    {
      "cell_type": "markdown",
      "source": [
        "# Real World Scenario\n",
        "\n",
        "Imagine you are the regional manager at Dunder Mifflin Paper Company. Corporate wants you to fire one of your salespeople. They have made the criteria for the layoff to be Expected Profit.\n",
        "\n",
        "In this workshop, we'll assist you in deciding whom to let go using a data-driven approach, ensuring you won't feel the same dilemma as Michael Scott.\n",
        "\n",
        "![No God](https://drive.google.com/uc?export=view&id=1JbqdOwzfxdaN9KgUDMZLu-EsFuCdRpUO)"
      ],
      "metadata": {
        "id": "P3ivnU1SlYmV"
      }
    },
    {
      "cell_type": "markdown",
      "source": [
        "# Lets look at the data\n",
        "  We have prepared some hypothetical data of the salespeople in your branch. It includes the sales they made each month for the past 3 years."
      ],
      "metadata": {
        "id": "tMXlmtn8uajF"
      }
    },
    {
      "cell_type": "markdown",
      "source": [
        "Load Drive"
      ],
      "metadata": {
        "id": "oK2k1FjdClC2"
      }
    },
    {
      "cell_type": "code",
      "source": [
        "from google.colab import drive\n",
        "drive.mount('/content/drive')"
      ],
      "metadata": {
        "colab": {
          "base_uri": "https://localhost:8080/"
        },
        "id": "6dlJRuwPCZNX",
        "outputId": "27cf8673-7c9d-4b19-98d8-7925ccb46bbc"
      },
      "execution_count": null,
      "outputs": [
        {
          "output_type": "stream",
          "name": "stdout",
          "text": [
            "Mounted at /content/drive\n"
          ]
        }
      ]
    },
    {
      "cell_type": "markdown",
      "source": [
        "Import Modules"
      ],
      "metadata": {
        "id": "V8-sZ5YmC3_I"
      }
    },
    {
      "cell_type": "code",
      "source": [
        "import pandas as pd\n",
        "import numpy as np\n",
        "from sklearn.model_selection import train_test_split\n",
        "from sklearn.preprocessing import MinMaxScaler\n",
        "from tensorflow.keras.models import Sequential\n",
        "from tensorflow.keras.layers import SimpleRNN, Dense, LSTM\n",
        "import matplotlib.pyplot as plt"
      ],
      "metadata": {
        "id": "YZxrVID-C3ei"
      },
      "execution_count": null,
      "outputs": []
    },
    {
      "cell_type": "markdown",
      "source": [
        "Load dataset"
      ],
      "metadata": {
        "id": "QVPgUuZlC_iq"
      }
    },
    {
      "cell_type": "code",
      "source": [
        "dataset_path = \"/content/drive/MyDrive/Model_Data/GDSC Workshop/sales_data.csv\"\n",
        "df = pd.read_csv(dataset_path)"
      ],
      "metadata": {
        "id": "ff-4B-GKCkjX"
      },
      "execution_count": null,
      "outputs": []
    },
    {
      "cell_type": "code",
      "source": [
        "df = df.drop(columns=[\"Unnamed: 0\"])\n",
        "df.head()"
      ],
      "metadata": {
        "colab": {
          "base_uri": "https://localhost:8080/",
          "height": 206
        },
        "id": "WTVnJWfTDEL4",
        "outputId": "733170e3-e165-46e6-e6d2-25c7ad38ecbd"
      },
      "execution_count": null,
      "outputs": [
        {
          "output_type": "execute_result",
          "data": {
            "text/plain": [
              "   Dwight_Schrute  Jim_Halpert  Phyllis_Vance  Stanley_Hudson\n",
              "0              70           65            100              80\n",
              "1              75           80            120              65\n",
              "2              85           75             75              65\n",
              "3              60           85             85              60\n",
              "4              95           90             90              85"
            ],
            "text/html": [
              "\n",
              "  <div id=\"df-fad1b088-9b92-45f8-af31-f8d5af2fb8ae\" class=\"colab-df-container\">\n",
              "    <div>\n",
              "<style scoped>\n",
              "    .dataframe tbody tr th:only-of-type {\n",
              "        vertical-align: middle;\n",
              "    }\n",
              "\n",
              "    .dataframe tbody tr th {\n",
              "        vertical-align: top;\n",
              "    }\n",
              "\n",
              "    .dataframe thead th {\n",
              "        text-align: right;\n",
              "    }\n",
              "</style>\n",
              "<table border=\"1\" class=\"dataframe\">\n",
              "  <thead>\n",
              "    <tr style=\"text-align: right;\">\n",
              "      <th></th>\n",
              "      <th>Dwight_Schrute</th>\n",
              "      <th>Jim_Halpert</th>\n",
              "      <th>Phyllis_Vance</th>\n",
              "      <th>Stanley_Hudson</th>\n",
              "    </tr>\n",
              "  </thead>\n",
              "  <tbody>\n",
              "    <tr>\n",
              "      <th>0</th>\n",
              "      <td>70</td>\n",
              "      <td>65</td>\n",
              "      <td>100</td>\n",
              "      <td>80</td>\n",
              "    </tr>\n",
              "    <tr>\n",
              "      <th>1</th>\n",
              "      <td>75</td>\n",
              "      <td>80</td>\n",
              "      <td>120</td>\n",
              "      <td>65</td>\n",
              "    </tr>\n",
              "    <tr>\n",
              "      <th>2</th>\n",
              "      <td>85</td>\n",
              "      <td>75</td>\n",
              "      <td>75</td>\n",
              "      <td>65</td>\n",
              "    </tr>\n",
              "    <tr>\n",
              "      <th>3</th>\n",
              "      <td>60</td>\n",
              "      <td>85</td>\n",
              "      <td>85</td>\n",
              "      <td>60</td>\n",
              "    </tr>\n",
              "    <tr>\n",
              "      <th>4</th>\n",
              "      <td>95</td>\n",
              "      <td>90</td>\n",
              "      <td>90</td>\n",
              "      <td>85</td>\n",
              "    </tr>\n",
              "  </tbody>\n",
              "</table>\n",
              "</div>\n",
              "    <div class=\"colab-df-buttons\">\n",
              "\n",
              "  <div class=\"colab-df-container\">\n",
              "    <button class=\"colab-df-convert\" onclick=\"convertToInteractive('df-fad1b088-9b92-45f8-af31-f8d5af2fb8ae')\"\n",
              "            title=\"Convert this dataframe to an interactive table.\"\n",
              "            style=\"display:none;\">\n",
              "\n",
              "  <svg xmlns=\"http://www.w3.org/2000/svg\" height=\"24px\" viewBox=\"0 -960 960 960\">\n",
              "    <path d=\"M120-120v-720h720v720H120Zm60-500h600v-160H180v160Zm220 220h160v-160H400v160Zm0 220h160v-160H400v160ZM180-400h160v-160H180v160Zm440 0h160v-160H620v160ZM180-180h160v-160H180v160Zm440 0h160v-160H620v160Z\"/>\n",
              "  </svg>\n",
              "    </button>\n",
              "\n",
              "  <style>\n",
              "    .colab-df-container {\n",
              "      display:flex;\n",
              "      gap: 12px;\n",
              "    }\n",
              "\n",
              "    .colab-df-convert {\n",
              "      background-color: #E8F0FE;\n",
              "      border: none;\n",
              "      border-radius: 50%;\n",
              "      cursor: pointer;\n",
              "      display: none;\n",
              "      fill: #1967D2;\n",
              "      height: 32px;\n",
              "      padding: 0 0 0 0;\n",
              "      width: 32px;\n",
              "    }\n",
              "\n",
              "    .colab-df-convert:hover {\n",
              "      background-color: #E2EBFA;\n",
              "      box-shadow: 0px 1px 2px rgba(60, 64, 67, 0.3), 0px 1px 3px 1px rgba(60, 64, 67, 0.15);\n",
              "      fill: #174EA6;\n",
              "    }\n",
              "\n",
              "    .colab-df-buttons div {\n",
              "      margin-bottom: 4px;\n",
              "    }\n",
              "\n",
              "    [theme=dark] .colab-df-convert {\n",
              "      background-color: #3B4455;\n",
              "      fill: #D2E3FC;\n",
              "    }\n",
              "\n",
              "    [theme=dark] .colab-df-convert:hover {\n",
              "      background-color: #434B5C;\n",
              "      box-shadow: 0px 1px 3px 1px rgba(0, 0, 0, 0.15);\n",
              "      filter: drop-shadow(0px 1px 2px rgba(0, 0, 0, 0.3));\n",
              "      fill: #FFFFFF;\n",
              "    }\n",
              "  </style>\n",
              "\n",
              "    <script>\n",
              "      const buttonEl =\n",
              "        document.querySelector('#df-fad1b088-9b92-45f8-af31-f8d5af2fb8ae button.colab-df-convert');\n",
              "      buttonEl.style.display =\n",
              "        google.colab.kernel.accessAllowed ? 'block' : 'none';\n",
              "\n",
              "      async function convertToInteractive(key) {\n",
              "        const element = document.querySelector('#df-fad1b088-9b92-45f8-af31-f8d5af2fb8ae');\n",
              "        const dataTable =\n",
              "          await google.colab.kernel.invokeFunction('convertToInteractive',\n",
              "                                                    [key], {});\n",
              "        if (!dataTable) return;\n",
              "\n",
              "        const docLinkHtml = 'Like what you see? Visit the ' +\n",
              "          '<a target=\"_blank\" href=https://colab.research.google.com/notebooks/data_table.ipynb>data table notebook</a>'\n",
              "          + ' to learn more about interactive tables.';\n",
              "        element.innerHTML = '';\n",
              "        dataTable['output_type'] = 'display_data';\n",
              "        await google.colab.output.renderOutput(dataTable, element);\n",
              "        const docLink = document.createElement('div');\n",
              "        docLink.innerHTML = docLinkHtml;\n",
              "        element.appendChild(docLink);\n",
              "      }\n",
              "    </script>\n",
              "  </div>\n",
              "\n",
              "\n",
              "<div id=\"df-345de771-d677-4d16-9ac4-99b5f361f4cd\">\n",
              "  <button class=\"colab-df-quickchart\" onclick=\"quickchart('df-345de771-d677-4d16-9ac4-99b5f361f4cd')\"\n",
              "            title=\"Suggest charts\"\n",
              "            style=\"display:none;\">\n",
              "\n",
              "<svg xmlns=\"http://www.w3.org/2000/svg\" height=\"24px\"viewBox=\"0 0 24 24\"\n",
              "     width=\"24px\">\n",
              "    <g>\n",
              "        <path d=\"M19 3H5c-1.1 0-2 .9-2 2v14c0 1.1.9 2 2 2h14c1.1 0 2-.9 2-2V5c0-1.1-.9-2-2-2zM9 17H7v-7h2v7zm4 0h-2V7h2v10zm4 0h-2v-4h2v4z\"/>\n",
              "    </g>\n",
              "</svg>\n",
              "  </button>\n",
              "\n",
              "<style>\n",
              "  .colab-df-quickchart {\n",
              "      --bg-color: #E8F0FE;\n",
              "      --fill-color: #1967D2;\n",
              "      --hover-bg-color: #E2EBFA;\n",
              "      --hover-fill-color: #174EA6;\n",
              "      --disabled-fill-color: #AAA;\n",
              "      --disabled-bg-color: #DDD;\n",
              "  }\n",
              "\n",
              "  [theme=dark] .colab-df-quickchart {\n",
              "      --bg-color: #3B4455;\n",
              "      --fill-color: #D2E3FC;\n",
              "      --hover-bg-color: #434B5C;\n",
              "      --hover-fill-color: #FFFFFF;\n",
              "      --disabled-bg-color: #3B4455;\n",
              "      --disabled-fill-color: #666;\n",
              "  }\n",
              "\n",
              "  .colab-df-quickchart {\n",
              "    background-color: var(--bg-color);\n",
              "    border: none;\n",
              "    border-radius: 50%;\n",
              "    cursor: pointer;\n",
              "    display: none;\n",
              "    fill: var(--fill-color);\n",
              "    height: 32px;\n",
              "    padding: 0;\n",
              "    width: 32px;\n",
              "  }\n",
              "\n",
              "  .colab-df-quickchart:hover {\n",
              "    background-color: var(--hover-bg-color);\n",
              "    box-shadow: 0 1px 2px rgba(60, 64, 67, 0.3), 0 1px 3px 1px rgba(60, 64, 67, 0.15);\n",
              "    fill: var(--button-hover-fill-color);\n",
              "  }\n",
              "\n",
              "  .colab-df-quickchart-complete:disabled,\n",
              "  .colab-df-quickchart-complete:disabled:hover {\n",
              "    background-color: var(--disabled-bg-color);\n",
              "    fill: var(--disabled-fill-color);\n",
              "    box-shadow: none;\n",
              "  }\n",
              "\n",
              "  .colab-df-spinner {\n",
              "    border: 2px solid var(--fill-color);\n",
              "    border-color: transparent;\n",
              "    border-bottom-color: var(--fill-color);\n",
              "    animation:\n",
              "      spin 1s steps(1) infinite;\n",
              "  }\n",
              "\n",
              "  @keyframes spin {\n",
              "    0% {\n",
              "      border-color: transparent;\n",
              "      border-bottom-color: var(--fill-color);\n",
              "      border-left-color: var(--fill-color);\n",
              "    }\n",
              "    20% {\n",
              "      border-color: transparent;\n",
              "      border-left-color: var(--fill-color);\n",
              "      border-top-color: var(--fill-color);\n",
              "    }\n",
              "    30% {\n",
              "      border-color: transparent;\n",
              "      border-left-color: var(--fill-color);\n",
              "      border-top-color: var(--fill-color);\n",
              "      border-right-color: var(--fill-color);\n",
              "    }\n",
              "    40% {\n",
              "      border-color: transparent;\n",
              "      border-right-color: var(--fill-color);\n",
              "      border-top-color: var(--fill-color);\n",
              "    }\n",
              "    60% {\n",
              "      border-color: transparent;\n",
              "      border-right-color: var(--fill-color);\n",
              "    }\n",
              "    80% {\n",
              "      border-color: transparent;\n",
              "      border-right-color: var(--fill-color);\n",
              "      border-bottom-color: var(--fill-color);\n",
              "    }\n",
              "    90% {\n",
              "      border-color: transparent;\n",
              "      border-bottom-color: var(--fill-color);\n",
              "    }\n",
              "  }\n",
              "</style>\n",
              "\n",
              "  <script>\n",
              "    async function quickchart(key) {\n",
              "      const quickchartButtonEl =\n",
              "        document.querySelector('#' + key + ' button');\n",
              "      quickchartButtonEl.disabled = true;  // To prevent multiple clicks.\n",
              "      quickchartButtonEl.classList.add('colab-df-spinner');\n",
              "      try {\n",
              "        const charts = await google.colab.kernel.invokeFunction(\n",
              "            'suggestCharts', [key], {});\n",
              "      } catch (error) {\n",
              "        console.error('Error during call to suggestCharts:', error);\n",
              "      }\n",
              "      quickchartButtonEl.classList.remove('colab-df-spinner');\n",
              "      quickchartButtonEl.classList.add('colab-df-quickchart-complete');\n",
              "    }\n",
              "    (() => {\n",
              "      let quickchartButtonEl =\n",
              "        document.querySelector('#df-345de771-d677-4d16-9ac4-99b5f361f4cd button');\n",
              "      quickchartButtonEl.style.display =\n",
              "        google.colab.kernel.accessAllowed ? 'block' : 'none';\n",
              "    })();\n",
              "  </script>\n",
              "</div>\n",
              "\n",
              "    </div>\n",
              "  </div>\n"
            ]
          },
          "metadata": {},
          "execution_count": 7
        }
      ]
    },
    {
      "cell_type": "code",
      "source": [
        "df.shape"
      ],
      "metadata": {
        "colab": {
          "base_uri": "https://localhost:8080/"
        },
        "id": "VtLpnRNGDMLt",
        "outputId": "c67b8dca-69f2-4bf5-e89f-54b370bc7e40"
      },
      "execution_count": null,
      "outputs": [
        {
          "output_type": "execute_result",
          "data": {
            "text/plain": [
              "(37, 4)"
            ]
          },
          "metadata": {},
          "execution_count": 8
        }
      ]
    },
    {
      "cell_type": "markdown",
      "source": [
        "# Preprocessing\n",
        "The data needs to be prepared in a way such that some n serial inputs have one output"
      ],
      "metadata": {
        "id": "7mp003tADkxb"
      }
    },
    {
      "cell_type": "code",
      "source": [
        "def prepare_data(timeseries_data,n_steps):\n",
        "    X,y = [] , []\n",
        "    for i in range(len(timeseries_data)):\n",
        "        end_ix = i + n_steps\n",
        "\n",
        "        if end_ix > len(timeseries_data) - 1:\n",
        "            break\n",
        "        seq_x, seq_y = timeseries_data[i:end_ix] , timeseries_data[end_ix]\n",
        "        X.append(seq_x)\n",
        "        y.append(seq_y)\n",
        "    return np.array(X),np.array(y)"
      ],
      "metadata": {
        "id": "rfXhuk5pDXqo"
      },
      "execution_count": null,
      "outputs": []
    },
    {
      "cell_type": "markdown",
      "source": [
        "# Timesteps\n",
        "It is the number of previous datapoints that are used to forecast the next ones"
      ],
      "metadata": {
        "id": "teuWzX57HbFC"
      }
    },
    {
      "cell_type": "code",
      "source": [
        "n_steps = 5\n",
        "X,y = prepare_data(df[\"Dwight_Schrute\"],n_steps)\n",
        "X.shape"
      ],
      "metadata": {
        "colab": {
          "base_uri": "https://localhost:8080/"
        },
        "id": "emf6EfQpDz2L",
        "outputId": "da472031-191c-4aa0-a17a-11ee520b08dd"
      },
      "execution_count": null,
      "outputs": [
        {
          "output_type": "execute_result",
          "data": {
            "text/plain": [
              "(32, 5)"
            ]
          },
          "metadata": {},
          "execution_count": 10
        }
      ]
    },
    {
      "cell_type": "code",
      "source": [
        "print(X[0], y[0])"
      ],
      "metadata": {
        "colab": {
          "base_uri": "https://localhost:8080/"
        },
        "id": "Z7QMmgfyD3b1",
        "outputId": "3a598207-6cdc-4342-86f8-7ce65f9b4636"
      },
      "execution_count": null,
      "outputs": [
        {
          "output_type": "stream",
          "name": "stdout",
          "text": [
            "[70 75 85 60 95] 95\n"
          ]
        }
      ]
    },
    {
      "cell_type": "code",
      "source": [
        "print(X[1], y[1])"
      ],
      "metadata": {
        "colab": {
          "base_uri": "https://localhost:8080/"
        },
        "id": "BjrEpdXSD5iI",
        "outputId": "aa91e0dd-5acb-481c-aa4b-8b6d552337bd"
      },
      "execution_count": null,
      "outputs": [
        {
          "output_type": "stream",
          "name": "stdout",
          "text": [
            "[75 85 60 95 95] 90\n"
          ]
        }
      ]
    },
    {
      "cell_type": "markdown",
      "source": [
        "# Features and Datapoints\n",
        "When given an array of 5 elements, Tensorflow thinks them not as 5 individual datapoints but, 5 features of the same datapoint. To overcome this, we reshape the input."
      ],
      "metadata": {
        "id": "97oAz0bsG5E4"
      }
    },
    {
      "cell_type": "code",
      "source": [
        "n_features = 1\n",
        "X = X.reshape(X.shape[0],X.shape[1],n_features)\n",
        "X.shape"
      ],
      "metadata": {
        "colab": {
          "base_uri": "https://localhost:8080/"
        },
        "id": "q7Qau-L3ECMv",
        "outputId": "27a0cfd7-2202-49de-ee41-49dbd03d2957"
      },
      "execution_count": null,
      "outputs": [
        {
          "output_type": "execute_result",
          "data": {
            "text/plain": [
              "(32, 5, 1)"
            ]
          },
          "metadata": {},
          "execution_count": 14
        }
      ]
    },
    {
      "cell_type": "code",
      "source": [
        "X[0]"
      ],
      "metadata": {
        "colab": {
          "base_uri": "https://localhost:8080/"
        },
        "id": "tNk9ssZMESKo",
        "outputId": "80dac002-43e0-47c7-8167-fdcd3e81b76c"
      },
      "execution_count": null,
      "outputs": [
        {
          "output_type": "execute_result",
          "data": {
            "text/plain": [
              "array([[70],\n",
              "       [75],\n",
              "       [85],\n",
              "       [60],\n",
              "       [95]])"
            ]
          },
          "metadata": {},
          "execution_count": 15
        }
      ]
    },
    {
      "cell_type": "markdown",
      "source": [
        "# Create Model"
      ],
      "metadata": {
        "id": "bzbKjPK-FCSE"
      }
    },
    {
      "cell_type": "code",
      "source": [
        "def get_simplernn_model(n_steps,n_features):\n",
        "  model = Sequential()\n",
        "  model.add(SimpleRNN(50,activation='relu',return_sequences=True,input_shape=(n_steps,n_features)))\n",
        "  model.add(SimpleRNN(50,activation='relu'))\n",
        "  model.add(Dense(1))\n",
        "  model.compile(optimizer='adam',loss=\"mse\")\n",
        "  return model"
      ],
      "metadata": {
        "id": "UMI_7EanEukb"
      },
      "execution_count": null,
      "outputs": []
    },
    {
      "cell_type": "markdown",
      "source": [
        "# Forecast future sales"
      ],
      "metadata": {
        "id": "uHI2p3nnFFYa"
      }
    },
    {
      "cell_type": "code",
      "source": [
        "def get_simplernn_forecast(X,y,salesperson,n_steps,n_features,n_preds):\n",
        "  # Train the model\n",
        "  model = get_simplernn_model(n_steps,n_features)\n",
        "  model.fit(X,y,epochs=50,verbose=0)\n",
        "\n",
        "  # Get last n datapoints to forecast the next\n",
        "  temp_input = list(df[salesperson][-n_steps:])\n",
        "  x_input = np.array(temp_input)\n",
        "\n",
        "  output = []\n",
        "  i = 0\n",
        "  while(i<n_preds):\n",
        "    if len(temp_input) > n_steps: # This ensures that the number of timesteps does not exceed the one specified before\n",
        "      x_input = np.array(temp_input[i:])\n",
        "\n",
        "    # Reshape the input\n",
        "    x_input = x_input.reshape((1,n_steps,n_features))\n",
        "\n",
        "    # Get prediction about next month\n",
        "    yhat = model.predict(x_input,verbose=0)\n",
        "\n",
        "    # Add predicted sales to the sequence used for the next prediction\n",
        "    temp_input.append(yhat[0][0])\n",
        "    output.append(yhat[0][0])\n",
        "    i+=1\n",
        "\n",
        "  return output\n"
      ],
      "metadata": {
        "id": "0NbgNYafETVg"
      },
      "execution_count": null,
      "outputs": []
    },
    {
      "cell_type": "markdown",
      "source": [
        "# Make Predictions"
      ],
      "metadata": {
        "id": "juOl5b7kIl8O"
      }
    },
    {
      "cell_type": "code",
      "source": [
        "n_steps = 3\n",
        "n_preds = 5\n",
        "preds = {}\n",
        "salespeople = [\"Dwight_Schrute\", \"Jim_Halpert\", \"Stanley_Hudson\", \"Phyllis_Vance\"]\n",
        "for i in salespeople:\n",
        "    X,y = prepare_data(df[i],n_steps)\n",
        "    pred = get_simplernn_forecast(X,y,i,n_steps,n_features,n_preds)\n",
        "    preds[i] = pred\n",
        "    print(pred)"
      ],
      "metadata": {
        "colab": {
          "base_uri": "https://localhost:8080/"
        },
        "id": "Lj9eEzq3InZ5",
        "outputId": "72078a68-a7d2-4c2a-bc8c-a398dcdc26de"
      },
      "execution_count": null,
      "outputs": [
        {
          "output_type": "stream",
          "name": "stdout",
          "text": [
            "[127.134186, 124.5695, 133.52736, 141.09967, 144.64548]\n",
            "[91.070755, 90.43358, 85.81682, 81.82003, 78.30827]\n"
          ]
        },
        {
          "output_type": "stream",
          "name": "stderr",
          "text": [
            "WARNING:tensorflow:5 out of the last 11 calls to <function Model.make_predict_function.<locals>.predict_function at 0x7bb716f0b880> triggered tf.function retracing. Tracing is expensive and the excessive number of tracings could be due to (1) creating @tf.function repeatedly in a loop, (2) passing tensors with different shapes, (3) passing Python objects instead of tensors. For (1), please define your @tf.function outside of the loop. For (2), @tf.function has reduce_retracing=True option that can avoid unnecessary retracing. For (3), please refer to https://www.tensorflow.org/guide/function#controlling_retracing and https://www.tensorflow.org/api_docs/python/tf/function for  more details.\n",
            "WARNING:tensorflow:5 out of the last 11 calls to <function Model.make_predict_function.<locals>.predict_function at 0x7bb716f0b880> triggered tf.function retracing. Tracing is expensive and the excessive number of tracings could be due to (1) creating @tf.function repeatedly in a loop, (2) passing tensors with different shapes, (3) passing Python objects instead of tensors. For (1), please define your @tf.function outside of the loop. For (2), @tf.function has reduce_retracing=True option that can avoid unnecessary retracing. For (3), please refer to https://www.tensorflow.org/guide/function#controlling_retracing and https://www.tensorflow.org/api_docs/python/tf/function for  more details.\n"
          ]
        },
        {
          "output_type": "stream",
          "name": "stdout",
          "text": [
            "[86.74244, 84.84927, 79.62774, 79.579384, 77.123924]\n",
            "[78.38589, 79.26469, 80.707794, 82.56587, 84.32923]\n"
          ]
        }
      ]
    },
    {
      "cell_type": "code",
      "source": [
        "preds[\"Dwight_Schrute\"]"
      ],
      "metadata": {
        "colab": {
          "base_uri": "https://localhost:8080/"
        },
        "id": "W1XF7V9iIp-d",
        "outputId": "c7745f9d-f97f-469a-9d32-f610974fa0d7"
      },
      "execution_count": null,
      "outputs": [
        {
          "output_type": "execute_result",
          "data": {
            "text/plain": [
              "[127.134186, 124.5695, 133.52736, 141.09967, 144.64548]"
            ]
          },
          "metadata": {},
          "execution_count": 20
        }
      ]
    },
    {
      "cell_type": "code",
      "source": [
        "actual = np.arange(0,37)\n",
        "predicted = np.arange(37,37+n_preds)"
      ],
      "metadata": {
        "id": "-qK-QL5SI2UX"
      },
      "execution_count": null,
      "outputs": []
    },
    {
      "cell_type": "code",
      "source": [
        "plt.figure(figsize=(40, 60))\n",
        "plt.subplots(4, 1)\n",
        "\n",
        "for num, salesman in enumerate(salespeople):\n",
        "    plt.subplot(4, 1, num+1)\n",
        "\n",
        "    plt.plot(actual,df[salesman])\n",
        "    plt.plot(predicted,preds[salesman])\n",
        "    plt.title(salesman)\n",
        "\n",
        "plt.tight_layout()\n",
        "plt.show()"
      ],
      "metadata": {
        "colab": {
          "base_uri": "https://localhost:8080/",
          "height": 504
        },
        "id": "7aLqyGnpI7t0",
        "outputId": "f908283f-8665-4135-eb23-ea607671ebe0"
      },
      "execution_count": null,
      "outputs": [
        {
          "output_type": "display_data",
          "data": {
            "text/plain": [
              "<Figure size 4000x6000 with 0 Axes>"
            ]
          },
          "metadata": {}
        },
        {
          "output_type": "display_data",
          "data": {
            "text/plain": [
              "<Figure size 640x480 with 4 Axes>"
            ],
            "image/png": "[encoded data removed]"
          },
          "metadata": {}
        }
      ]
    },
    {
      "cell_type": "markdown",
      "source": [
        "# Problem with Simple RNNs\n",
        "Since we are looking only at the last n datapoints, the model seems to \"forget\" about the past trends. This is called the \"vanishing gradient\" problem.\n",
        "\n",
        "To solve this we use LSTMs\n",
        "![RNN v/s LSTM](https://drive.google.com/uc?export=view&id=16eq43QJ01qX-Q6pM6NO5SYmiyA_RFYhR)\n"
      ],
      "metadata": {
        "id": "CMNU9LEYJfZU"
      }
    },
    {
      "cell_type": "markdown",
      "source": [
        "# LSTMs\n",
        "LSTMs (Long Short-Term Memory) networks were specifically designed to address the vanishing gradient problem and improve the learning of long-term dependencies.\n",
        "\n",
        "It contains a working memory as well as a Long-term memory to \"remember\" distant datapoints.\n",
        "\n",
        "![LSTM Architecture](https://drive.google.com/uc?export=view&id=1aXX2BS1dN51jDyOylW7ctvn4omcaNTEO)\n"
      ],
      "metadata": {
        "id": "A-f2qRMwKXTQ"
      }
    },
    {
      "cell_type": "markdown",
      "source": [
        "# Summary\n",
        "1. RNNs are used for sequential data\n",
        "2. They are prone to forgetting some data when there are a large number of datapoints, this is called the vanishing gradient problem\n",
        "3. LSTMs are used to solve the vanishing graddient problem by having both a working memory and a long-term memory\n",
        "4. Applications include Stock prediction, Time-series forecasting, NLP, etc.\n"
      ],
      "metadata": {
        "id": "IK2TAbngZ4NX"
      }
    },
    {
      "cell_type": "markdown",
      "source": [
        "### LSTM model"
      ],
      "metadata": {
        "id": "JSOo2508GNIz"
      }
    },
    {
      "cell_type": "code",
      "source": [
        "def get_lstm_model(n_steps,n_features):\n",
        "  model = Sequential()\n",
        "  model.add(LSTM(50,activation='relu',return_sequences=True,input_shape=(n_steps,n_features)))\n",
        "  model.add(LSTM(50,activation='relu'))\n",
        "  model.add(Dense(1))\n",
        "  model.compile(optimizer='adam',loss=\"mse\")\n",
        "  return model"
      ],
      "metadata": {
        "id": "DLihLRjpJDtu"
      },
      "execution_count": null,
      "outputs": []
    }
  ]
}